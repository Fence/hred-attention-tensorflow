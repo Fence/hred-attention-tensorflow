{
 "cells": [
  {
   "cell_type": "code",
   "execution_count": 1,
   "metadata": {
    "collapsed": false
   },
   "outputs": [],
   "source": [
    "import pyltr\n",
    "import numpy as np\n",
    "import sklearn.tree\n",
    "import random\n",
    "import math"
   ]
  },
  {
   "cell_type": "code",
   "execution_count": 2,
   "metadata": {
    "collapsed": false
   },
   "outputs": [],
   "source": [
    "data_archive_val = np.load('data/val_suggest_matrix.npz')\n",
    "data_archive_test = np.load('data/test_suggest_matrix.npz')\n",
    "data_archive_train = np.load('data/train_suggest_matrix.npz')\n",
    "\n",
    "data_val = data_archive_val['arr_0']\n",
    "data_test = data_archive_test['arr_0']\n",
    "data_train = data_archive_train['arr_0']"
   ]
  },
  {
   "cell_type": "code",
   "execution_count": null,
   "metadata": {
    "collapsed": false
   },
   "outputs": [],
   "source": [
    "\n"
   ]
  },
  {
   "cell_type": "code",
   "execution_count": 3,
   "metadata": {
    "collapsed": false
   },
   "outputs": [],
   "source": [
    "#col0=anchor ID, col1=suggestion ID. col 2-19 features, col 19 is scores\n",
    "def make_sessions_ids(anchor_ids):\n",
    "    \n",
    "    sessions_ids = np.zeros([len(anchor_ids)])\n",
    "    iters = len(anchor_ids) /20\n",
    "    for i in range(iters):\n",
    "        sessions_ids[i*20:(i+1)*20] = i\n",
    "    return sessions_ids\n",
    "\n",
    "feature_idx = 20\n",
    "train_data_anchor_ids = data_train[:,0]\n",
    "train_data_suggestion_ids = data_train[:,1]\n",
    "train_data_features = data_train[:,3:feature_idx]\n",
    "train_data_label_scores = data_train[:,20]\n",
    "train_data_session_ids = make_sessions_ids(train_data_anchor_ids)\n",
    "\n",
    "\n",
    "\n",
    "val_data_anchor_ids = data_val[:,0]\n",
    "val_data_suggestion_ids = data_val[:,1]\n",
    "val_data_features = data_val[:,3:feature_idx]\n",
    "val_data_label_scores = data_val[:,20]\n",
    "val_data_session_ids = make_sessions_ids(val_data_anchor_ids)\n",
    "\n",
    "\n",
    "test_data_anchor_ids = data_test[:,0]\n",
    "test_data_suggestion_ids = data_test[:,1]\n",
    "test_data_features = data_test[:,3:feature_idx]\n",
    "test_data_label_scores = data_test[:,20]\n",
    "test_data_session_ids = make_sessions_ids(test_data_anchor_ids)\n",
    "\n",
    "\n"
   ]
  },
  {
   "cell_type": "code",
   "execution_count": null,
   "metadata": {
    "collapsed": false
   },
   "outputs": [],
   "source": []
  },
  {
   "cell_type": "code",
   "execution_count": 4,
   "metadata": {
    "collapsed": true
   },
   "outputs": [],
   "source": [
    "metric = pyltr.metrics.NDCG(k=20)"
   ]
  },
  {
   "cell_type": "code",
   "execution_count": 5,
   "metadata": {
    "collapsed": false
   },
   "outputs": [
    {
     "name": "stdout",
     "output_type": "stream",
     "text": [
      "(146260, 17)\n"
     ]
    }
   ],
   "source": [
    "print test_data_features.shape"
   ]
  },
  {
   "cell_type": "code",
   "execution_count": 6,
   "metadata": {
    "collapsed": false
   },
   "outputs": [],
   "source": [
    "n_trees = 100\n",
    "model = pyltr.models.LambdaMART(\n",
    "    metric=metric,\n",
    "    n_estimators=n_trees,\n",
    "    learning_rate=1./n_trees,\n",
    "    max_features=0.3,\n",
    "    query_subsample=(1./n_trees),\n",
    "    max_leaf_nodes=10,\n",
    "    min_samples_leaf=200,\n",
    "    verbose=1,\n",
    "    random_state=None\n",
    ")           \n",
    "\n",
    "monitor = pyltr.models.monitors.ValidationMonitor(\n",
    "    val_data_features, val_data_label_scores, val_data_session_ids, metric=metric, stop_after=5)"
   ]
  },
  {
   "cell_type": "code",
   "execution_count": 7,
   "metadata": {
    "collapsed": false
   },
   "outputs": [
    {
     "name": "stdout",
     "output_type": "stream",
     "text": [
      " Iter  Train score  OOB Improve    Remaining                           Monitor Output \n",
      "    1       0.3803       0.1211        7.14m                                         \n",
      "    2       0.5027       0.1686        6.37m                                         \n",
      "    3       0.5070       0.0251        6.05m                                         \n",
      "    4       0.5890       0.0085        5.88m                                         \n",
      "    5       0.5987       0.0147        5.74m                                         \n",
      "    6       0.6071       0.0040        5.64m                                         \n",
      "    7       0.5936       0.0087        5.55m                                         \n",
      "    8       0.6142       0.0031        5.46m                                         \n",
      "    9       0.5906       0.0021        5.39m                                         \n",
      "   10       0.5884      -0.0005        5.32m                                         \n",
      "   15       0.5947      -0.0027        4.99m                                         \n",
      "   20       0.5850      -0.0018        4.72m                                         \n",
      "   25       0.5682       0.0019        4.59m                                         \n",
      "   30       0.6059      -0.0004        4.45m                                         \n",
      "   35       0.5682       0.0033        4.17m                                         \n",
      "   40       0.6096      -0.0003        4.00m                                         \n",
      "   45       0.5754      -0.0010        3.68m                                         \n",
      "   50       0.5589      -0.0011        3.34m                                         \n",
      "   60       0.6464       0.0030        2.63m                                         \n",
      "   70       0.5590       0.0000        1.93m                                         \n",
      "   80       0.6156      -0.0010        1.27m                                         \n",
      "   90       0.5942       0.0001       37.75s                                         \n",
      "  100       0.5734      -0.0002        0.00s                                         \n"
     ]
    },
    {
     "data": {
      "text/plain": [
       "<pyltr.models.lambdamart.LambdaMART at 0x10b25b090>"
      ]
     },
     "execution_count": 7,
     "metadata": {},
     "output_type": "execute_result"
    }
   ],
   "source": [
    "model.fit(train_data_features, train_data_label_scores, train_data_session_ids)"
   ]
  },
  {
   "cell_type": "code",
   "execution_count": 8,
   "metadata": {
    "collapsed": false
   },
   "outputs": [
    {
     "name": "stdout",
     "output_type": "stream",
     "text": [
      "(146260, 17)\n",
      "(146260,)\n",
      "Random ranking: 0.352013419096\n",
      "Our model: 0.586834316622\n"
     ]
    }
   ],
   "source": [
    "print test_data_features.shape\n",
    "Epred = model.predict(test_data_features)\n",
    "\n",
    "print Epred.shape\n",
    "\n",
    "print 'Random ranking:', metric.calc_mean_random(val_data_session_ids, val_data_label_scores)\n",
    "print 'Our model:', metric.calc_mean(test_data_session_ids, test_data_label_scores, Epred)"
   ]
  },
  {
   "cell_type": "code",
   "execution_count": 9,
   "metadata": {
    "collapsed": false
   },
   "outputs": [
    {
     "name": "stdout",
     "output_type": "stream",
     "text": [
      "0.05785077951\n"
     ]
    }
   ],
   "source": [
    "same = 0\n",
    "not_same = 0\n",
    "for i in range ( len(data_train)/20):\n",
    "    if np.argmax(data_train[i*20:(i+1)*20,2]) == np.argmax(data_train[i*20:(i+1)*20,20]):\n",
    "        same += 1\n",
    "    else:\n",
    "        not_same += 1\n",
    "\n",
    "print same / float(not_same + same)\n",
    " "
   ]
  },
  {
   "cell_type": "code",
   "execution_count": 10,
   "metadata": {
    "collapsed": false
   },
   "outputs": [
    {
     "name": "stdout",
     "output_type": "stream",
     "text": [
      "0.693137640259\n"
     ]
    }
   ],
   "source": [
    "def MMR_Score(Epred, test_data_session_ids, test_data_label_scores):\n",
    "    sessions = len(test_data_session_ids)/20\n",
    "    sum_score = 0\n",
    "    for session_idx in range(0, sessions):\n",
    "        pred_idx = np.argmax(Epred[session_idx*20:(session_idx +1)*20])\n",
    "        sum_score += 1. /( pred_idx + 1)\n",
    "    return sum_score/ sessions\n",
    "\n",
    "\n",
    "print MMR_Score(Epred, test_data_session_ids, test_data_label_scores)"
   ]
  },
  {
   "cell_type": "code",
   "execution_count": null,
   "metadata": {
    "collapsed": false
   },
   "outputs": [],
   "source": []
  }
 ],
 "metadata": {
  "kernelspec": {
   "display_name": "Python 2",
   "language": "python",
   "name": "python2"
  },
  "language_info": {
   "codemirror_mode": {
    "name": "ipython",
    "version": 2
   },
   "file_extension": ".py",
   "mimetype": "text/x-python",
   "name": "python",
   "nbconvert_exporter": "python",
   "pygments_lexer": "ipython2",
   "version": "2.7.12"
  }
 },
 "nbformat": 4,
 "nbformat_minor": 0
}
