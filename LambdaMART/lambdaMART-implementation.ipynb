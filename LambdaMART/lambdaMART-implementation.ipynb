{
 "cells": [
  {
   "cell_type": "code",
   "execution_count": 1,
   "metadata": {
    "collapsed": false
   },
   "outputs": [],
   "source": [
    "import pyltr\n",
    "import numpy as np\n",
    "import sklearn.tree\n",
    "import random\n",
    "import math\n",
    "import os"
   ]
  },
  {
   "cell_type": "code",
   "execution_count": 23,
   "metadata": {
    "collapsed": false
   },
   "outputs": [],
   "source": [
    "NUM_TREES = 50\n",
    "DATA_FOLDER = 'data/'\n",
    "EXPERIMENTS = ['long-tail','noisy','query-length/c1','query-length/c2','query-length/c3','']\n",
    "NUM_EXPERIMENTS = 5\n",
    "MODES = ['train','val','test']\n",
    "\n"
   ]
  },
  {
   "cell_type": "code",
   "execution_count": 24,
   "metadata": {
    "collapsed": false
   },
   "outputs": [],
   "source": [
    "file_dict = {\n",
    "    'long-tail' :{\n",
    "        'train': 'train_longtail_suggest_matrix.npz',\n",
    "        'val': 'val_longtail_suggest_matrix.npz',\n",
    "        'test': 'test_longtail_suggest_matrix.npz',\n",
    "    },\n",
    "    'noisy' :{\n",
    "        'train': 'tr_noisy_suggest_matrix.npz',\n",
    "        'val': 'val_noisy_suggest_matrix.npz',\n",
    "        'test': 'test_noisy_suggest_matrix.npz',\n",
    "    },\n",
    "    'query-length/c1' : {\n",
    "        'train': 'tr_c1_suggest_matrix.npz',\n",
    "        'val': 'val_c1_suggest_matrix.npz',\n",
    "        'test': 'test_c1_suggest_matrix.npz',\n",
    "    },\n",
    "    'query-length/c2' : {\n",
    "        'train': 'tr_c2_suggest_matrix.npz',\n",
    "        'val': 'val_c2_suggest_matrix.npz',\n",
    "        'test': 'test_c2_suggest_matrix.npz',\n",
    "    },\n",
    "    'query-length/c3': {\n",
    "        'train': 'tr_c3_suggest_matrix.npz',\n",
    "        'val': 'val_c3_suggest_matrix.npz',\n",
    "        'test': 'test_c3_suggest_matrix.npz',\n",
    "    },\n",
    "    '' : {\n",
    "        'train': 'train_suggest_matrix.npz',\n",
    "        'val': 'val_suggest_matrix.npz',\n",
    "        'test': 'test_suggest_matrix.npz',\n",
    "    }\n",
    "}\n",
    "\n",
    "#col0=anchor ID, col1=suggestion ID. col 2-19 features, col 19 is scores\n",
    "def make_sessions_ids(anchor_ids):\n",
    "    \n",
    "    sessions_ids = np.zeros([len(anchor_ids)])\n",
    "    iters = len(anchor_ids) /20\n",
    "    for i in range(iters):\n",
    "        sessions_ids[i*20:(i+1)*20] = i\n",
    "    return sessions_ids\n",
    "\n",
    "def make_data(data_folder, experiment, file_dict,mode ,feature_idx=20):\n",
    "            \n",
    "        path = os.path.join(data_folder, experiment, file_dict[experiment][mode] )\n",
    "        \n",
    "        \n",
    "        data_train = np.load(path)['arr_0']\n",
    "       \n",
    "        data_anchor_ids = data_train[:,0]\n",
    "        data_suggestion_ids = data_train[:,1]\n",
    "        data_features = data_train[:,3:feature_idx]\n",
    "        data_label_scores = data_train[:,20]\n",
    "        data_session_ids = make_sessions_ids(data_anchor_ids)\n",
    "        \n",
    "        return data_anchor_ids, data_suggestion_ids, data_features, data_label_scores, data_session_ids\n",
    "    \n",
    "def MMR_Score(Epred, test_data_session_ids, test_data_label_scores):\n",
    "    sessions = len(test_data_session_ids)/20\n",
    "    sum_score = 0\n",
    "    for session_idx in range(0, sessions):\n",
    "        pred_idx = np.argmax(Epred[session_idx*20:(session_idx +1)*20])\n",
    "        sum_score += 1. /( pred_idx + 1)\n",
    "    return sum_score/ sessions\n"
   ]
  },
  {
   "cell_type": "code",
   "execution_count": 6,
   "metadata": {
    "collapsed": false
   },
   "outputs": [],
   "source": [
    "\"\"\"\n",
    "Some small demo's\n",
    "metric = pyltr.metrics.NDCG(k=20)\n",
    "\n",
    "model = pyltr.models.LambdaMART(\n",
    "    metric=metric,\n",
    "    n_estimators=n_trees,\n",
    "    learning_rate=1./n_trees,\n",
    "    max_features=0.3,\n",
    "    query_subsample=(1./n_trees),\n",
    "    max_leaf_nodes=10,\n",
    "    min_samples_leaf=200,\n",
    "    verbose=1,\n",
    "    random_state=None\n",
    ")           \n",
    "\n",
    "monitor = pyltr.models.monitors.ValidationMonitor(\n",
    "    val_data_features, val_data_label_scores, val_data_session_ids, metric=metric, stop_after=5)\n",
    "    \n",
    "    model.fit(train_data_features, train_data_label_scores, train_data_session_ids)\n",
    "    \n",
    "    Epred = model.predict(test_data_features)\n",
    "\n",
    "print 'Random ranking:', metric.calc_mean_random(val_data_session_ids, val_data_label_scores)\n",
    "print 'Our model:', metric.calc_mean(test_data_session_ids, test_data_label_scores, Epred)\n",
    "\n",
    "print MMR_Score(Epred, test_data_session_ids, test_data_label_scores)\n",
    "\n",
    "\"\"\"\n",
    "\n"
   ]
  },
  {
   "cell_type": "code",
   "execution_count": null,
   "metadata": {
    "collapsed": false
   },
   "outputs": [
    {
     "name": "stdout",
     "output_type": "stream",
     "text": [
      "--- new experiment ---\n",
      "Experiment:  0\n",
      "MMR Score for long-tail :  0.347198452573\n",
      "--- new experiment ---\n"
     ]
    }
   ],
   "source": [
    "metric = pyltr.metrics.NDCG(k=20)\n",
    "result_dict = {\n",
    "    'long-tail' :[],\n",
    "    'noisy' :[],\n",
    "    'query-length/c1' : [],\n",
    "    'query-length/c2' : [],\n",
    "    'query-length/c3': [],\n",
    "    '' : []\n",
    "}\n",
    "\n",
    "for experiment in EXPERIMENTS:\n",
    "    for epoch in range(NUM_EXPERIMENTS):\n",
    "        print \"--- new experiment ---\" \n",
    "        train_data_anchor_ids, train_data_suggestion_ids, train_data_features, \\\n",
    "        train_data_label_scores, train_data_session_ids =  make_data(DATA_FOLDER, experiment, file_dict,'train' ,feature_idx=20)\n",
    "        val_data_anchor_ids, val_data_suggestion_ids, val_data_features, \\\n",
    "        val_data_label_scores, val_data_session_ids =  make_data(DATA_FOLDER, experiment, file_dict,'val' ,feature_idx=20) \n",
    "\n",
    "        test_data_anchor_ids, test_data_suggestion_ids, test_data_features, \\\n",
    "        test_data_label_scores, test_data_session_ids =  make_data(DATA_FOLDER, experiment, file_dict,'test' ,feature_idx=20) \n",
    "        \n",
    "        model = pyltr.models.LambdaMART(\n",
    "            metric=metric,\n",
    "            n_estimators=NUM_TREES,\n",
    "            learning_rate=1./NUM_TREES,\n",
    "            max_features=0.3,\n",
    "            query_subsample=(1./NUM_TREES),\n",
    "            max_leaf_nodes=10,\n",
    "            min_samples_leaf=200,\n",
    "            verbose=0,\n",
    "            random_state=None\n",
    "        )\n",
    "        \n",
    "        model.fit(train_data_features, train_data_label_scores, train_data_session_ids)\n",
    "        \n",
    "        Epred = model.predict(test_data_features)\n",
    "        \n",
    "        random_ranking = metric.calc_mean_random(val_data_session_ids, val_data_label_scores)\n",
    "        model_ndcg = metric.calc_mean(test_data_session_ids, test_data_label_scores, Epred)\n",
    "        mrr_score = MMR_Score(Epred, test_data_session_ids, test_data_label_scores)\n",
    "        print \"Experiment: \", epoch + 1\n",
    "        print \"MMR Score for \" + experiment + \" : \", mrr_score\n",
    "        result_dict[experiment].append(mrr_score)\n",
    "    print \"__________________________________________________\""
   ]
  },
  {
   "cell_type": "code",
   "execution_count": null,
   "metadata": {
    "collapsed": true
   },
   "outputs": [],
   "source": []
  }
 ],
 "metadata": {
  "kernelspec": {
   "display_name": "Python 2",
   "language": "python",
   "name": "python2"
  },
  "language_info": {
   "codemirror_mode": {
    "name": "ipython",
    "version": 2
   },
   "file_extension": ".py",
   "mimetype": "text/x-python",
   "name": "python",
   "nbconvert_exporter": "python",
   "pygments_lexer": "ipython2",
   "version": "2.7.12"
  }
 },
 "nbformat": 4,
 "nbformat_minor": 0
}
