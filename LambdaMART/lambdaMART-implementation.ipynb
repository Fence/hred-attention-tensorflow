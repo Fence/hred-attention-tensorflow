{
 "cells": [
  {
   "cell_type": "code",
   "execution_count": 1,
   "metadata": {
    "collapsed": false
   },
   "outputs": [],
   "source": [
    "import pyltr\n",
    "import numpy as np\n",
    "import sklearn.tree\n",
    "import random\n",
    "import math"
   ]
  },
  {
   "cell_type": "code",
   "execution_count": 2,
   "metadata": {
    "collapsed": false
   },
   "outputs": [],
   "source": [
    "def randomize_data(data):\n",
    "    sessions_length = 20\n",
    "    for sessions in range(0, len(data)/20):\n",
    "        session_data = data[sessions*20:(sessions + 1)* 20,:]\n",
    "        np.random.shuffle(session_data)\n",
    "        data[sessions*20:(sessions + 1)* 20,:] = session_data\n",
    "    return data \n",
    "data_archive = np.load('data/train_suggest_matrix.npz')\n",
    "data = data_archive['arr_0']\n",
    "data = randomize_data(data)\n",
    "\n",
    "num_sessions = len(data)/20\n",
    "test = 0.15\n",
    "train = 0.85\n",
    "\n",
    "\n",
    "\n",
    "train_idx = int((num_sessions * 0.85) + 0.5)\n",
    "\n",
    "train_data =data[0:train_idx*20,:]\n",
    "val_data =data[train_idx*20:,:]"
   ]
  },
  {
   "cell_type": "code",
   "execution_count": 3,
   "metadata": {
    "collapsed": false
   },
   "outputs": [
    {
     "name": "stdout",
     "output_type": "stream",
     "text": [
      "413640\n",
      "73000\n"
     ]
    }
   ],
   "source": [
    "\n",
    "\n",
    "#col0=anchor ID, col1=suggestion ID. col 2-19 features, col 19 is scores\n",
    "def make_sessions_ids(anchor_ids):\n",
    "    \n",
    "    sessions_ids = np.zeros([len(anchor_ids)])\n",
    "    iters = len(anchor_ids) /20\n",
    "    for i in range(iters):\n",
    "        sessions_ids[i*20:(i+1)*20] = i\n",
    "    return sessions_ids\n",
    "\n",
    "\n",
    "train_data_anchor_ids = train_data[:,0]\n",
    "train_data_suggestion_ids = train_data[:,1]\n",
    "train_data_features = train_data[:,2:18]\n",
    "train_data_label_scores = train_data[:,19]\n",
    "train_data_session_ids = make_sessions_ids(train_data_anchor_ids)\n",
    "\n",
    "\n",
    "\n",
    "val_data_anchor_ids = val_data[:,0]\n",
    "val_data_suggestion_ids = val_data[:,1]\n",
    "val_data_features = val_data[:,2:18]\n",
    "val_data_label_scores = val_data[:,19]\n",
    "val_data_session_ids = make_sessions_ids(val_data_anchor_ids)"
   ]
  },
  {
   "cell_type": "code",
   "execution_count": 4,
   "metadata": {
    "collapsed": true
   },
   "outputs": [],
   "source": [
    "metric = pyltr.metrics.NDCG(k=20)"
   ]
  },
  {
   "cell_type": "code",
   "execution_count": null,
   "metadata": {
    "collapsed": false
   },
   "outputs": [],
   "source": [
    "model = pyltr.models.LambdaMART(\n",
    "    metric=metric,\n",
    "    n_estimators=5,\n",
    "    learning_rate=0.02,\n",
    "    max_features=0.3,\n",
    "    query_subsample=0.5,\n",
    "    max_leaf_nodes=10,\n",
    "    min_samples_leaf=4,\n",
    "    verbose=1,\n",
    "    random_state=None\n",
    ")           \n",
    "\n",
    "monitor = pyltr.models.monitors.ValidationMonitor(\n",
    "    val_data_features, val_data_label_scores, val_data_session_ids, metric=metric, stop_after=5)"
   ]
  },
  {
   "cell_type": "code",
   "execution_count": null,
   "metadata": {
    "collapsed": false
   },
   "outputs": [
    {
     "name": "stdout",
     "output_type": "stream",
     "text": [
      " Iter  Train score  OOB Improve    Remaining                           Monitor Output \n",
      "    1       1.0000       0.7723       48.88s                                         \n",
      "    2       1.0000       0.0000       36.91s                                         \n",
      "    3       1.0000       0.0000       24.18s                                         \n",
      "    4       1.0000       0.0000       11.93s                                         \n"
     ]
    }
   ],
   "source": [
    "model.fit(train_data_features, train_data_label_scores, train_data_session_ids)"
   ]
  },
  {
   "cell_type": "code",
   "execution_count": null,
   "metadata": {
    "collapsed": false
   },
   "outputs": [],
   "source": [
    "Epred = model.predict(val_data_features)\n",
    "\n",
    "print 'Random ranking:', metric.calc_mean_random(val_data_session_ids, val_data_label_scores)\n",
    "print 'Our model:', metric.calc_mean(val_data_session_ids, val_data_label_scores, Epred)"
   ]
  },
  {
   "cell_type": "code",
   "execution_count": null,
   "metadata": {
    "collapsed": false
   },
   "outputs": [],
   "source": [
    "print np.argmax(val_data_label_scores[0:20])\n",
    "print np.argmax(Epred[0:20])\n",
    "print np.argmax(val_data_label_scores[20:40])\n",
    "print np.argmax(Epred[20:40])\n",
    "\n",
    "\n"
   ]
  },
  {
   "cell_type": "code",
   "execution_count": null,
   "metadata": {
    "collapsed": true
   },
   "outputs": [],
   "source": []
  }
 ],
 "metadata": {
  "kernelspec": {
   "display_name": "Python 2",
   "language": "python",
   "name": "python2"
  },
  "language_info": {
   "codemirror_mode": {
    "name": "ipython",
    "version": 2
   },
   "file_extension": ".py",
   "mimetype": "text/x-python",
   "name": "python",
   "nbconvert_exporter": "python",
   "pygments_lexer": "ipython2",
   "version": "2.7.12"
  }
 },
 "nbformat": 4,
 "nbformat_minor": 0
}
